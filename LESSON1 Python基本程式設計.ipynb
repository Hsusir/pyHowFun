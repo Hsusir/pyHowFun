{
 "cells": [
  {
   "cell_type": "markdown",
   "metadata": {},
   "source": [
    "### Input & Output"
   ]
  },
  {
   "cell_type": "code",
   "execution_count": 1,
   "metadata": {},
   "outputs": [
    {
     "name": "stdout",
     "output_type": "stream",
     "text": [
      "Hello World\n",
      "請輸入你的名字：皮皮\n",
      "Hello 皮皮\n"
     ]
    }
   ],
   "source": [
    "print('Hello World')\n",
    "name = input('請輸入你的名字：')\n",
    "print('Hello', name)"
   ]
  },
  {
   "cell_type": "markdown",
   "metadata": {},
   "source": [
    "### 格式化輸出"
   ]
  },
  {
   "cell_type": "code",
   "execution_count": 2,
   "metadata": {},
   "outputs": [
    {
     "name": "stdout",
     "output_type": "stream",
     "text": [
      "有8個小波說字串\n",
      "Hello, 小明, 成績提升了 17.1\n"
     ]
    }
   ],
   "source": [
    "# %d:整數, %f:浮點數, %s:字串\n",
    "print('有%d個小波說%s' % (8, '字串'))\n",
    "\n",
    "# format()\n",
    "print('Hello, {0}, 成績提升了 {1:.1f}'.format('小明',17.123))"
   ]
  },
  {
   "cell_type": "markdown",
   "metadata": {},
   "source": [
    "### 變數"
   ]
  },
  {
   "cell_type": "code",
   "execution_count": 3,
   "metadata": {
    "collapsed": true
   },
   "outputs": [],
   "source": [
    "# num\n",
    "num1 = 2\n",
    "num2 = 3.2\n",
    "\n",
    "# string\n",
    "str1 = 'abc'\n",
    "str2 = \"abc\"\n",
    "str3 = \"'abc'\"\n",
    "str4 = ' I\\'m \\\"OK\\\"! '\n",
    "str5 = r\"I'm OK\" # r:普通字符\n",
    "str6 = u\"This is a Unicode String\" # u:unicode\n",
    "\n",
    "# boolean\n",
    "T = True\n",
    "F = False\n",
    "\n",
    "# 空值(不是0)\n",
    "null = None"
   ]
  },
  {
   "cell_type": "markdown",
   "metadata": {},
   "source": [
    "### List:不限type"
   ]
  },
  {
   "cell_type": "code",
   "execution_count": 4,
   "metadata": {},
   "outputs": [
    {
     "name": "stdout",
     "output_type": "stream",
     "text": [
      "蘋果\n",
      "芭樂\n",
      "['蘋果', '香蕉', '芭樂']\n"
     ]
    }
   ],
   "source": [
    "# list1\n",
    "\n",
    "fruits = ['蘋果', '香蕉', '芭樂']\n",
    "print(fruits[0])\n",
    "print(fruits[-1])\n",
    "\n",
    "# append\n",
    "fruits.append('草莓')\n",
    "\n",
    "# insert\n",
    "fruits.insert(1, '龍眼')\n",
    "\n",
    "# pop\n",
    "fruits.pop()\n",
    "\n",
    "# pop(index)\n",
    "fruits.pop(1)\n",
    "\n",
    "print(fruits)"
   ]
  },
  {
   "cell_type": "code",
   "execution_count": 5,
   "metadata": {},
   "outputs": [
    {
     "name": "stdout",
     "output_type": "stream",
     "text": [
      "php\n"
     ]
    }
   ],
   "source": [
    "# list2\n",
    "L = ['Apple', 123, True]\n",
    "s = ['python', 'java', ['asp', 'php'], 'scheme']\n",
    "\n",
    "print(s[2][1])"
   ]
  },
  {
   "cell_type": "markdown",
   "metadata": {},
   "source": [
    "### Tuple:不能更改值"
   ]
  },
  {
   "cell_type": "code",
   "execution_count": 6,
   "metadata": {},
   "outputs": [
    {
     "name": "stdout",
     "output_type": "stream",
     "text": [
      "1\n"
     ]
    }
   ],
   "source": [
    "t = (1, 2, 3)\n",
    "T = (1, )\n",
    "\n",
    "print(t[0])"
   ]
  },
  {
   "cell_type": "markdown",
   "metadata": {},
   "source": [
    "### Dictionary(dict): 用key-value存值"
   ]
  },
  {
   "cell_type": "code",
   "execution_count": 7,
   "metadata": {},
   "outputs": [
    {
     "name": "stdout",
     "output_type": "stream",
     "text": [
      "20\n",
      "False\n"
     ]
    },
    {
     "data": {
      "text/plain": [
       "34"
      ]
     },
     "execution_count": 7,
     "metadata": {},
     "output_type": "execute_result"
    }
   ],
   "source": [
    "d = {'Apple': 20, 'Banana': 10, 'Pineapple': 34}\n",
    "print(d['Apple'])\n",
    "\n",
    "# 判斷是否存在\n",
    "print( 'Papaya' in d )\n",
    "\n",
    "# get()\n",
    "d.get('Apple')\n",
    "\n",
    "# pop()\n",
    "d.pop('Pineapple')"
   ]
  },
  {
   "cell_type": "markdown",
   "metadata": {},
   "source": [
    "### Slice"
   ]
  },
  {
   "cell_type": "code",
   "execution_count": 8,
   "metadata": {},
   "outputs": [
    {
     "data": {
      "text/plain": [
       "['芭樂', '橘子']"
      ]
     },
     "execution_count": 8,
     "metadata": {},
     "output_type": "execute_result"
    }
   ],
   "source": [
    "fruits = ['蘋果', '香蕉', '芭樂', '橘子']\n",
    "\n",
    "fruits[0]\n",
    "fruits[0:2]\n",
    "fruits[:2]\n",
    "fruits[-2:]"
   ]
  },
  {
   "cell_type": "markdown",
   "metadata": {},
   "source": [
    "### 條件"
   ]
  },
  {
   "cell_type": "code",
   "execution_count": 9,
   "metadata": {},
   "outputs": [
    {
     "name": "stdout",
     "output_type": "stream",
     "text": [
      "你幾歲13\n",
      "teenager\n"
     ]
    }
   ],
   "source": [
    "age = input('你幾歲')\n",
    "age = int(age)\n",
    "\n",
    "if age >= 18:\n",
    "    print('adult')\n",
    "elif age >= 12:\n",
    "    print('teenager')\n",
    "else:\n",
    "    print('kid')"
   ]
  },
  {
   "cell_type": "markdown",
   "metadata": {},
   "source": [
    "### 迴圈"
   ]
  },
  {
   "cell_type": "code",
   "execution_count": 10,
   "metadata": {},
   "outputs": [
    {
     "name": "stdout",
     "output_type": "stream",
     "text": [
      "0\n",
      "1\n",
      "2\n",
      "3\n",
      "4\n",
      "0\n",
      "1\n",
      "2\n",
      "3\n",
      "4\n",
      "5\n",
      "6\n",
      "7\n",
      "8\n",
      "9\n"
     ]
    }
   ],
   "source": [
    "# while\n",
    "n = 0\n",
    "while n<5:\n",
    "    print(n)\n",
    "    n = n+1\n",
    "    \n",
    "# for\n",
    "for i in range(0, 10):\n",
    "    print(i)"
   ]
  },
  {
   "cell_type": "markdown",
   "metadata": {},
   "source": [
    "### In"
   ]
  },
  {
   "cell_type": "code",
   "execution_count": 11,
   "metadata": {},
   "outputs": [
    {
     "name": "stdout",
     "output_type": "stream",
     "text": [
      "True\n",
      "蘋果\n",
      "香蕉\n",
      "芭樂\n",
      "橘子\n",
      "a\n",
      "b\n",
      "c\n",
      "0 A\n",
      "1 B\n",
      "2 C\n"
     ]
    }
   ],
   "source": [
    "# 某些字是否在字串內\n",
    "if 'ch' in 'chinese':\n",
    "    print('True')\n",
    "    \n",
    "# list\n",
    "fruits = ['蘋果', '香蕉', '芭樂', '橘子']\n",
    "for val in fruits:\n",
    "    print(val)\n",
    "    \n",
    "# dict\n",
    "d = {'a': 1, 'b': 2, 'c':3}\n",
    "for key in d:\n",
    "    print(key)\n",
    "    \n",
    "# 實現類似array的方法： enumerate\n",
    "for i, value in enumerate(['A', 'B', 'C']):\n",
    "    print(i, value)"
   ]
  },
  {
   "cell_type": "markdown",
   "metadata": {},
   "source": [
    "### 內建函式"
   ]
  },
  {
   "cell_type": "code",
   "execution_count": 12,
   "metadata": {},
   "outputs": [
    {
     "data": {
      "text/plain": [
       "'12.3'"
      ]
     },
     "execution_count": 12,
     "metadata": {},
     "output_type": "execute_result"
    }
   ],
   "source": [
    "# abs()\n",
    "abs(-100)\n",
    "\n",
    "# max()\n",
    "max(1, 2, 3)\n",
    "\n",
    "# type轉換\n",
    "int('123')\n",
    "int(12.34)\n",
    "str(12.3)"
   ]
  },
  {
   "cell_type": "markdown",
   "metadata": {},
   "source": [
    "### 自己寫函式"
   ]
  },
  {
   "cell_type": "code",
   "execution_count": 13,
   "metadata": {},
   "outputs": [
    {
     "data": {
      "text/plain": [
       "3"
      ]
     },
     "execution_count": 13,
     "metadata": {},
     "output_type": "execute_result"
    }
   ],
   "source": [
    "def my_abs(x):\n",
    "    if x>= 0:\n",
    "        return x\n",
    "    else:\n",
    "        return -x\n",
    "    \n",
    "my_abs(-3)"
   ]
  },
  {
   "cell_type": "markdown",
   "metadata": {},
   "source": [
    "### 讀寫文件"
   ]
  },
  {
   "cell_type": "code",
   "execution_count": 14,
   "metadata": {},
   "outputs": [],
   "source": [
    "# 基本讀寫\n",
    "path = 'untitled.txt'\n",
    "f = open(path, 'r')\n",
    "context = f.read()\n",
    "\n",
    "f.close()"
   ]
  },
  {
   "cell_type": "code",
   "execution_count": 15,
   "metadata": {},
   "outputs": [
    {
     "name": "stdout",
     "output_type": "stream",
     "text": [
      "hello world\n"
     ]
    }
   ],
   "source": [
    "# 用with\n",
    "\n",
    "path = 'untitled.txt'\n",
    "\n",
    "with open(path, 'r') as f:\n",
    "    print(f.read())"
   ]
  },
  {
   "cell_type": "markdown",
   "metadata": {
    "collapsed": true
   },
   "source": [
    "### 例外處理 (try-except)\n",
    "~~~\n",
    "try:\n",
    "    <code>        # 運行代碼\n",
    "except:\n",
    "    <code>        # 捕捉各種異常\n",
    "except <錯誤名稱>:\n",
    "    <code>        # 如果在try部份引發了'某錯誤名稱'的異常\n",
    "except <錯誤名稱>，<數據>:\n",
    "    <code>        # 如果引發了'某錯誤名稱'異常，獲得附加的數據\n",
    "else:\n",
    "    <code>        # 如果沒有異常發生\n",
    "~~~"
   ]
  },
  {
   "cell_type": "code",
   "execution_count": 16,
   "metadata": {},
   "outputs": [
    {
     "name": "stdout",
     "output_type": "stream",
     "text": [
      "文件寫入成功\n"
     ]
    }
   ],
   "source": [
    "try:\n",
    "    fh = open(\"testfile\", \"w\")\n",
    "    fh.write(\"這是一個測試異常的文件!!\")\n",
    "except IOError:\n",
    "    print(\"Error: 沒有找到文件或是讀取失敗\")\n",
    "else:\n",
    "    print(\"文件寫入成功\")\n",
    "    fh.close()"
   ]
  },
  {
   "cell_type": "code",
   "execution_count": null,
   "metadata": {
    "collapsed": true
   },
   "outputs": [],
   "source": []
  }
 ],
 "metadata": {
  "kernelspec": {
   "display_name": "Python 3",
   "language": "python",
   "name": "python3"
  },
  "language_info": {
   "codemirror_mode": {
    "name": "ipython",
    "version": 3
   },
   "file_extension": ".py",
   "mimetype": "text/x-python",
   "name": "python",
   "nbconvert_exporter": "python",
   "pygments_lexer": "ipython3",
   "version": "3.6.1"
  }
 },
 "nbformat": 4,
 "nbformat_minor": 2
}
