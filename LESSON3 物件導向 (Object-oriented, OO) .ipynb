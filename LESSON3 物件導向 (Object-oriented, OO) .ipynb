{
 "cells": [
  {
   "cell_type": "markdown",
   "metadata": {},
   "source": [
    "### 物件導向\n",
    "~~~\n",
    "class <類別名稱>：\n",
    "    def __init__(self): # 初始化\n",
    "    \n",
    "    ...內容\n",
    "~~~"
   ]
  },
  {
   "cell_type": "code",
   "execution_count": 1,
   "metadata": {
    "collapsed": true
   },
   "outputs": [],
   "source": [
    "# 建立Animal物件\n",
    "# 並有name及age的屬性\n",
    "\n",
    "class Animal:\n",
    "    def __init__(self, name, age): # 當建立物件時，需要傳入的初始值\n",
    "        self.name = name # 將傳入的name，賦值給物件本身的變數self.name\n",
    "        self.age = age # 將傳入的age，賦值給物件本身的變數self.age"
   ]
  },
  {
   "cell_type": "code",
   "execution_count": 2,
   "metadata": {},
   "outputs": [],
   "source": [
    "# 實例化物件\n",
    "\n",
    "myAnimal = Animal('皮皮', 13) # 傳入name, height"
   ]
  },
  {
   "cell_type": "code",
   "execution_count": 3,
   "metadata": {},
   "outputs": [
    {
     "name": "stdout",
     "output_type": "stream",
     "text": [
      "皮皮\n",
      "13\n"
     ]
    }
   ],
   "source": [
    "# 查看物件資料\n",
    "\n",
    "print(myAnimal.name)\n",
    "print(myAnimal.age)"
   ]
  },
  {
   "cell_type": "markdown",
   "metadata": {},
   "source": [
    "### 給變數有預定的值"
   ]
  },
  {
   "cell_type": "code",
   "execution_count": 4,
   "metadata": {
    "collapsed": true
   },
   "outputs": [],
   "source": [
    "class Animal:\n",
    "    def __init__(self, name='咖波', age=9): # 先給定初始值有預定的值\n",
    "        self.name = name\n",
    "        self.age = age"
   ]
  },
  {
   "cell_type": "code",
   "execution_count": 5,
   "metadata": {},
   "outputs": [
    {
     "name": "stdout",
     "output_type": "stream",
     "text": [
      "咖波\n",
      "9\n"
     ]
    }
   ],
   "source": [
    "myAnimal = Animal()\n",
    "print(myAnimal.name)\n",
    "print(myAnimal.age)"
   ]
  },
  {
   "cell_type": "markdown",
   "metadata": {},
   "source": [
    "### 建立其他function在物件內"
   ]
  },
  {
   "cell_type": "code",
   "execution_count": 6,
   "metadata": {
    "collapsed": true
   },
   "outputs": [],
   "source": [
    "class Animal:\n",
    "    def __init__(self, name, age):\n",
    "        self.name = name\n",
    "        self.age = age\n",
    "        \n",
    "    def print_name(self): # 記得內部方法一定要傳入self參數\n",
    "        print('寵物名字是：', self.name)\n",
    "        \n",
    "    def change_name(self, new_name):\n",
    "        self.name = new_name"
   ]
  },
  {
   "cell_type": "code",
   "execution_count": 7,
   "metadata": {},
   "outputs": [
    {
     "name": "stdout",
     "output_type": "stream",
     "text": [
      "寵物名字是： 皮皮\n"
     ]
    }
   ],
   "source": [
    "# 呼叫物件內的方法\n",
    "\n",
    "myAnimal = Animal('皮皮', 13)\n",
    "myAnimal.print_name()"
   ]
  },
  {
   "cell_type": "code",
   "execution_count": 8,
   "metadata": {},
   "outputs": [
    {
     "name": "stdout",
     "output_type": "stream",
     "text": [
      "寵物名字是： 小波\n"
     ]
    }
   ],
   "source": [
    "myAnimal.change_name('小波')\n",
    "myAnimal.print_name()"
   ]
  },
  {
   "cell_type": "markdown",
   "metadata": {},
   "source": [
    "### 調用本身已寫好的方法\n",
    "若是內部定義的方法，記得加上 self 在方法的前面"
   ]
  },
  {
   "cell_type": "code",
   "execution_count": 9,
   "metadata": {
    "collapsed": true
   },
   "outputs": [],
   "source": [
    "# 物件內方法，調用本身已寫好的方法\n",
    "\n",
    "class Animal:\n",
    "    def __init__(self, name, age):\n",
    "        self.name = name\n",
    "        self.age = age\n",
    "        \n",
    "    def print_name(self): # 記得內部方法一定要傳入self參數\n",
    "        print('寵物名字是：', self.name)\n",
    "        \n",
    "    def change_name(self, new_name):\n",
    "        self.name = new_name\n",
    "        self.print_name() # 當更改名字後，調用已寫好的print_name()方法"
   ]
  },
  {
   "cell_type": "code",
   "execution_count": 10,
   "metadata": {},
   "outputs": [
    {
     "name": "stdout",
     "output_type": "stream",
     "text": [
      "寵物名字是： 小波\n"
     ]
    }
   ],
   "source": [
    "myAnimal = Animal('皮皮', 13)\n",
    "myAnimal.change_name('小波')"
   ]
  },
  {
   "cell_type": "markdown",
   "metadata": {},
   "source": [
    "### 不傳入初始值，透過方法建立內部變數"
   ]
  },
  {
   "cell_type": "code",
   "execution_count": 11,
   "metadata": {
    "collapsed": true
   },
   "outputs": [],
   "source": [
    "class Animal:\n",
    "    def __init__(self):\n",
    "        # 可以先定義好有哪些內部需要用到的變數\n",
    "        self.name = None\n",
    "        self.age = None\n",
    "        \n",
    "    def give_name(self, name):\n",
    "        self.name = name\n",
    "        \n",
    "    def give_age(self, age):\n",
    "        self.age = age\n",
    "        \n",
    "    def print_info(self):\n",
    "        print('寵物名字：', self.name)\n",
    "        print('寵物年齡：', self.age)"
   ]
  },
  {
   "cell_type": "code",
   "execution_count": 12,
   "metadata": {
    "collapsed": true
   },
   "outputs": [],
   "source": [
    "# 實例化，這邊不傳入初始值也不會報錯\n",
    "\n",
    "myAnimal = Animal()"
   ]
  },
  {
   "cell_type": "code",
   "execution_count": 13,
   "metadata": {},
   "outputs": [
    {
     "name": "stdout",
     "output_type": "stream",
     "text": [
      "寵物名字： 波波\n",
      "寵物年齡： 13\n"
     ]
    }
   ],
   "source": [
    "# 調用物件方法\n",
    "\n",
    "myAnimal.give_name('波波')\n",
    "myAnimal.give_age(13)\n",
    "myAnimal.print_info()"
   ]
  },
  {
   "cell_type": "markdown",
   "metadata": {},
   "source": [
    "### 繼承"
   ]
  },
  {
   "cell_type": "code",
   "execution_count": 14,
   "metadata": {
    "collapsed": true
   },
   "outputs": [],
   "source": [
    "class Animal:\n",
    "    def __init__(self, name, age):\n",
    "        self.name = name\n",
    "        self.age = age\n",
    "        \n",
    "    def print_name(self):\n",
    "        print('寵物名字是：', self.name)\n",
    "        \n",
    "    def change_name(self, new_name):\n",
    "        self.name = new_name\n",
    "        self.print_name()\n",
    "        \n",
    "# 繼承Animal\n",
    "# Animal的方法及初始值，在Dog物件也全部繼承(可以使用)\n",
    "class Dog(Animal):\n",
    "    def __init__(self, name, age):\n",
    "        super().__init__(name, age) # 直接繼承父類(Animal)的name, age"
   ]
  },
  {
   "cell_type": "code",
   "execution_count": 15,
   "metadata": {},
   "outputs": [],
   "source": [
    "# 實例化剛剛所寫的Dog物件\n",
    "\n",
    "myDog = Dog('拉拉', 6)"
   ]
  },
  {
   "cell_type": "code",
   "execution_count": 16,
   "metadata": {},
   "outputs": [
    {
     "name": "stdout",
     "output_type": "stream",
     "text": [
      "寵物名字是： 拉拉\n"
     ]
    }
   ],
   "source": [
    "# 因為Animal已有print_name()方法，Dog物件又將他繼承過來\n",
    "# 因此Dog內不用再寫此方法，也可以直接調用\n",
    "\n",
    "myDog.print_name()"
   ]
  },
  {
   "cell_type": "code",
   "execution_count": 17,
   "metadata": {},
   "outputs": [
    {
     "name": "stdout",
     "output_type": "stream",
     "text": [
      "寵物名字是： 皮皮狗\n"
     ]
    }
   ],
   "source": [
    "# 試試看change_name()方法\n",
    "\n",
    "myDog.change_name('皮皮狗')"
   ]
  },
  {
   "cell_type": "code",
   "execution_count": 18,
   "metadata": {
    "collapsed": true
   },
   "outputs": [],
   "source": [
    "# 將繼承的類，擴充功能\n",
    "\n",
    "class Animal:\n",
    "    def __init__(self, name, age):\n",
    "        self.name = name\n",
    "        self.age = age\n",
    "        \n",
    "    def print_name(self):\n",
    "        print('寵物名字是：', self.name)\n",
    "        \n",
    "    def change_name(self, new_name):\n",
    "        self.name = new_name\n",
    "        self.print_name()\n",
    "        \n",
    "class Dog(Animal):\n",
    "    def __init__(self, name, age, height, breed): # 增加height及breed屬性\n",
    "        super().__init__(name, age)\n",
    "        self.height = height\n",
    "        self.breed = breed\n",
    "        \n",
    "    def print_dog_info(self): # 只有Dog物件可以使用的方法，Animal不能使用\n",
    "        print('狗狗名字：', self.name)\n",
    "        print('狗狗年齡：', self.age)\n",
    "        print('狗狗身高：', self.height)\n",
    "        print('狗狗品種：', self.breed)"
   ]
  },
  {
   "cell_type": "code",
   "execution_count": 19,
   "metadata": {},
   "outputs": [
    {
     "name": "stdout",
     "output_type": "stream",
     "text": [
      "狗狗名字： 皮皮狗\n",
      "狗狗年齡： 5\n",
      "狗狗身高： 93\n",
      "狗狗品種： beagle\n"
     ]
    }
   ],
   "source": [
    "myDog = Dog('皮皮狗', 5, 93, 'beagle')\n",
    "myDog.print_dog_info()"
   ]
  },
  {
   "cell_type": "markdown",
   "metadata": {},
   "source": [
    "### 物件的私有屬性\n",
    "原本物件的屬性或是方法都是公開的(public)，外部可以直接存取  \n",
    "若想設置成私有屬性(private)，不讓外部可以直接存取的話，只要在屬性、方法前面加上 \"__\"，就可以成為私有屬性"
   ]
  },
  {
   "cell_type": "code",
   "execution_count": 20,
   "metadata": {
    "collapsed": true
   },
   "outputs": [],
   "source": [
    "class Animal:\n",
    "    def __init__(self, name, age):\n",
    "        self.__name = name\n",
    "        self.__age = age\n",
    "        \n",
    "    def __print_name(self):\n",
    "        print('寵物名字是：', self.__name)\n",
    "        \n",
    "    def __change_name(self, new_name):\n",
    "        self.__name = new_name\n",
    "        self.__print_name()"
   ]
  },
  {
   "cell_type": "code",
   "execution_count": 21,
   "metadata": {},
   "outputs": [
    {
     "ename": "AttributeError",
     "evalue": "'Animal' object has no attribute '__name'",
     "output_type": "error",
     "traceback": [
      "\u001b[0;31m---------------------------------------------------------------------------\u001b[0m",
      "\u001b[0;31mAttributeError\u001b[0m                            Traceback (most recent call last)",
      "\u001b[0;32m<ipython-input-21-97de9f64e802>\u001b[0m in \u001b[0;36m<module>\u001b[0;34m()\u001b[0m\n\u001b[1;32m      1\u001b[0m \u001b[0mmyAnimal\u001b[0m \u001b[0;34m=\u001b[0m \u001b[0mAnimal\u001b[0m\u001b[0;34m(\u001b[0m\u001b[0;34m'皮皮'\u001b[0m\u001b[0;34m,\u001b[0m \u001b[0;36m13\u001b[0m\u001b[0;34m)\u001b[0m\u001b[0;34m\u001b[0m\u001b[0m\n\u001b[0;32m----> 2\u001b[0;31m \u001b[0mprint\u001b[0m\u001b[0;34m(\u001b[0m\u001b[0mmyAnimal\u001b[0m\u001b[0;34m.\u001b[0m\u001b[0m__name\u001b[0m\u001b[0;34m)\u001b[0m \u001b[0;31m# 會報錯\u001b[0m\u001b[0;34m\u001b[0m\u001b[0m\n\u001b[0m",
      "\u001b[0;31mAttributeError\u001b[0m: 'Animal' object has no attribute '__name'"
     ]
    }
   ],
   "source": [
    "myAnimal = Animal('皮皮', 13)\n",
    "print(myAnimal.__name) # 會報錯"
   ]
  },
  {
   "cell_type": "code",
   "execution_count": 22,
   "metadata": {},
   "outputs": [
    {
     "ename": "AttributeError",
     "evalue": "'Animal' object has no attribute '__change_name'",
     "output_type": "error",
     "traceback": [
      "\u001b[0;31m---------------------------------------------------------------------------\u001b[0m",
      "\u001b[0;31mAttributeError\u001b[0m                            Traceback (most recent call last)",
      "\u001b[0;32m<ipython-input-22-3521906d67ab>\u001b[0m in \u001b[0;36m<module>\u001b[0;34m()\u001b[0m\n\u001b[0;32m----> 1\u001b[0;31m \u001b[0mmyAnimal\u001b[0m\u001b[0;34m.\u001b[0m\u001b[0m__change_name\u001b[0m\u001b[0;34m(\u001b[0m\u001b[0;34m'小波'\u001b[0m\u001b[0;34m)\u001b[0m \u001b[0;31m# 會報錯\u001b[0m\u001b[0;34m\u001b[0m\u001b[0m\n\u001b[0m",
      "\u001b[0;31mAttributeError\u001b[0m: 'Animal' object has no attribute '__change_name'"
     ]
    }
   ],
   "source": [
    "myAnimal.__change_name('小波') # 會報錯"
   ]
  },
  {
   "cell_type": "code",
   "execution_count": 23,
   "metadata": {
    "collapsed": true
   },
   "outputs": [],
   "source": [
    "# 此時就需要內部寫個方法來獲取name, age\n",
    "\n",
    "class Animal:\n",
    "    def __init__(self, name, age):\n",
    "        self.__name = name\n",
    "        self.__age = age\n",
    "        \n",
    "    def __print_name(self):\n",
    "        print('寵物名字是：', self.__name)\n",
    "        \n",
    "    def __change_name(self, new_name):\n",
    "        self.__name = new_name\n",
    "        self.__print_name()\n",
    "        \n",
    "    def get_name(self): # public\n",
    "        return self.__name\n",
    "    \n",
    "    def get_age(self): # public\n",
    "        return self.__age\n",
    "    \n",
    "    def public_print_name(self): # public\n",
    "        self.__print_name()"
   ]
  },
  {
   "cell_type": "code",
   "execution_count": 24,
   "metadata": {},
   "outputs": [
    {
     "name": "stdout",
     "output_type": "stream",
     "text": [
      "皮皮 13\n"
     ]
    }
   ],
   "source": [
    "myAnimal = Animal('皮皮', 13)\n",
    "name = myAnimal.get_name()\n",
    "age = myAnimal.get_age()\n",
    "print(name, age)"
   ]
  },
  {
   "cell_type": "code",
   "execution_count": 25,
   "metadata": {},
   "outputs": [
    {
     "name": "stdout",
     "output_type": "stream",
     "text": [
      "寵物名字是： 皮皮\n"
     ]
    }
   ],
   "source": [
    "myAnimal.public_print_name()"
   ]
  },
  {
   "cell_type": "markdown",
   "metadata": {},
   "source": [
    "### 不需實例化，調用物件方法\n",
    "一般來說，要使用某個物件(類)的方法，需要先實例化後才能調用  \n",
    "但若利用 @staticmethod 或 @classmethod，就可以不用實例化並調用物件方法\n",
    "* @staticmethod：不需要表示自身對象的self和自身類的cls參數，就跟使用函數一樣\n",
    "* @classmethod：不需要self參數，但第一個參數需要是表示自身類的cls參數"
   ]
  },
  {
   "cell_type": "code",
   "execution_count": 26,
   "metadata": {
    "collapsed": true
   },
   "outputs": [],
   "source": [
    "class MathUtil:\n",
    "    @staticmethod\n",
    "    def plus_two_num(x, y): # 不用傳入self及cls\n",
    "        return x+y\n",
    "    \n",
    "    @classmethod\n",
    "    def minus_two_num(cls, x, y): # 不用傳入self, 但要傳入cls\n",
    "        return abs(x-y)"
   ]
  },
  {
   "cell_type": "code",
   "execution_count": 27,
   "metadata": {},
   "outputs": [
    {
     "name": "stdout",
     "output_type": "stream",
     "text": [
      "13\n",
      "7\n"
     ]
    }
   ],
   "source": [
    "x = 3\n",
    "y = 10\n",
    "plus_num = MathUtil.plus_two_num(x, y)\n",
    "minus_num = MathUtil.minus_two_num(x, y)\n",
    "\n",
    "print(plus_num)\n",
    "print(minus_num)"
   ]
  },
  {
   "cell_type": "code",
   "execution_count": null,
   "metadata": {
    "collapsed": true
   },
   "outputs": [],
   "source": []
  }
 ],
 "metadata": {
  "kernelspec": {
   "display_name": "Python 3",
   "language": "python",
   "name": "python3"
  },
  "language_info": {
   "codemirror_mode": {
    "name": "ipython",
    "version": 3
   },
   "file_extension": ".py",
   "mimetype": "text/x-python",
   "name": "python",
   "nbconvert_exporter": "python",
   "pygments_lexer": "ipython3",
   "version": "3.6.1"
  }
 },
 "nbformat": 4,
 "nbformat_minor": 2
}
