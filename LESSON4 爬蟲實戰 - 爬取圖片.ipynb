{
 "cells": [
  {
   "cell_type": "code",
   "execution_count": null,
   "metadata": {
    "collapsed": true
   },
   "outputs": [],
   "source": [
    "# 分析網頁結構\n",
    "import requests\n",
    "from bs4 import BeautifulSoup\n",
    "\n",
    "# google圖片 貓\n",
    "url = 'https://www.google.com.tw/search?safe=strict&hl=zh-TW&biw=1280&bih=703&tbm=isch&sa=1&ei=LT4ZWu6TDIih0gTLsLuACA&q=%E8%B2%93&oq=%E8%B2%93&gs_l=psy-ab.3..0l10.20271.20384.0.20599.3.3.0.0.0.0.151.323.1j2.3.0....0...1c.1j4.64.psy-ab..2.1.150....0.sBA2qtKdZFM'\n",
    "\n",
    "resp = requests.get(url)\n",
    "soup = BeautifulSoup(resp.text, 'lxml')\n",
    "print(soup.prettify())"
   ]
  },
  {
   "cell_type": "code",
   "execution_count": null,
   "metadata": {
    "collapsed": true
   },
   "outputs": [],
   "source": [
    "# 找到url後存取圖片\n",
    "import urllib.request\n",
    "\n",
    "# all_img = []\n",
    "\n",
    "data = soup.find('div', {'id':'ires'})\n",
    "# data.find_all('a')\n",
    "# url = data.find_all('a')[0].img['src']\n",
    "data_a = data.find_all('a')\n",
    "\n",
    "i = 1\n",
    "\n",
    "for d in data_a:\n",
    "    url = d.img['src']\n",
    "    # all_img.append(url)\n",
    "    urllib.request.urlretrieve(url, str(i)+'jpg')\n",
    "    i = i+1"
   ]
  },
  {
   "cell_type": "code",
   "execution_count": null,
   "metadata": {
    "collapsed": true
   },
   "outputs": [],
   "source": []
  }
 ],
 "metadata": {
  "kernelspec": {
   "display_name": "Python 3",
   "language": "python",
   "name": "python3"
  },
  "language_info": {
   "codemirror_mode": {
    "name": "ipython",
    "version": 3
   },
   "file_extension": ".py",
   "mimetype": "text/x-python",
   "name": "python",
   "nbconvert_exporter": "python",
   "pygments_lexer": "ipython3",
   "version": "3.6.1"
  }
 },
 "nbformat": 4,
 "nbformat_minor": 2
}
