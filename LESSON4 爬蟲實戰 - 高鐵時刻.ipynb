{
 "cells": [
  {
   "cell_type": "code",
   "execution_count": null,
   "metadata": {
    "collapsed": true
   },
   "outputs": [],
   "source": [
    "# 查詢高鐵時刻：http://www.thsrc.com.tw/tw/TimeTable/SearchResult\n",
    "# 台北→台南, 2017/11/30, 5:30後啟程的班車\n",
    "\n",
    "import requests\n",
    "from bs4 import BeautifulSoup\n",
    "\n",
    "url = 'http://www.thsrc.com.tw/tw/TimeTable/SearchResult'\n",
    "\n",
    "# 找到option值\n",
    "form_data = {\n",
    "    'StartStation':'977abb69-413a-4ccf-a109-0272c24fd490',\n",
    "    'EndStation':'9c5ac6ca-ec89-48f8-aab0-41b738cb1814',\n",
    "    'SearchDate':'2017/11/30',\n",
    "    'SearchTime':'05:30',\n",
    "    'SearchWay':'DepartureInMandarin'\n",
    "}\n",
    "\n",
    "# 用request.post，並放入form_data\n",
    "response_post = requests.post(url, data=form_data)\n",
    "\n",
    "soup_post = BeautifulSoup(response_post.text, 'lxml')\n",
    "soup_post"
   ]
  },
  {
   "cell_type": "code",
   "execution_count": null,
   "metadata": {
    "collapsed": true
   },
   "outputs": [],
   "source": [
    "# 所有班車(train_number)\n",
    "td_col1 = soup_post.find_all('td', {'class':'column1'})\n",
    "train_numbers = []\n",
    "\n",
    "for tag in td_col1:\n",
    "    # print(tag)\n",
    "    train_number = tag.text\n",
    "    train_numbers.append(train_number)\n",
    "    \n",
    "print(train_numbers)"
   ]
  },
  {
   "cell_type": "code",
   "execution_count": null,
   "metadata": {
    "collapsed": true
   },
   "outputs": [],
   "source": [
    "# 所有出發時間(departure_time)\n",
    "td_col3 = soup_post.find_all('td', {'class':'column3'})\n",
    "departure_times = []\n",
    "\n",
    "for tag in td_col3:\n",
    "    departure_time = tag.text\n",
    "    departure_times.append(departure_time)\n",
    "    \n",
    "print(departure_times)"
   ]
  },
  {
   "cell_type": "code",
   "execution_count": null,
   "metadata": {
    "collapsed": true
   },
   "outputs": [],
   "source": [
    "# 所有到達時間(arrival_time)\n",
    "td_col4 = soup_post.find_all('td', {'class':'column4'})\n",
    "arrival_times = []\n",
    "\n",
    "for tag in td_col4:\n",
    "    arrival_time = tag.text\n",
    "    arrival_times.append(arrival_time)\n",
    "    \n",
    "print(arrival_times)"
   ]
  },
  {
   "cell_type": "code",
   "execution_count": null,
   "metadata": {
    "collapsed": true
   },
   "outputs": [],
   "source": [
    "# 所有行車時間(travel_time)\n",
    "td_col2 = soup_post.find_all('td', {'class':'column2'})\n",
    "travel_times = []\n",
    "\n",
    "for tag in td_col2:\n",
    "    travel_time = tag.text\n",
    "    travel_times.append(travel_time)\n",
    "    \n",
    "print(travel_times)"
   ]
  },
  {
   "cell_type": "code",
   "execution_count": null,
   "metadata": {
    "collapsed": true
   },
   "outputs": [],
   "source": [
    "# 整理成表格\n",
    "import pandas as pd\n",
    "\n",
    "highway_df = pd.DataFrame({\n",
    "    '車次': train_numbers,\n",
    "    '出發時間': departure_times,\n",
    "    '到達時間': arrival_times,\n",
    "    '行車時間': travel_times},\n",
    "    columns = ['車次', '出發時間', '到達時間', '行車時間'])\n",
    "\n",
    "highway_df"
   ]
  },
  {
   "cell_type": "code",
   "execution_count": null,
   "metadata": {
    "collapsed": true
   },
   "outputs": [],
   "source": []
  }
 ],
 "metadata": {
  "kernelspec": {
   "display_name": "Python 3",
   "language": "python",
   "name": "python3"
  },
  "language_info": {
   "codemirror_mode": {
    "name": "ipython",
    "version": 3
   },
   "file_extension": ".py",
   "mimetype": "text/x-python",
   "name": "python",
   "nbconvert_exporter": "python",
   "pygments_lexer": "ipython3",
   "version": "3.6.1"
  }
 },
 "nbformat": 4,
 "nbformat_minor": 2
}
