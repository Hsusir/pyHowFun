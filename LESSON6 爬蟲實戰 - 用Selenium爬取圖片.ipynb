{
 "cells": [
  {
   "cell_type": "code",
   "execution_count": null,
   "metadata": {
    "collapsed": true
   },
   "outputs": [],
   "source": [
    "# selenium啟動瀏覽器\n",
    "from selenium import webdriver\n",
    "\n",
    "url = 'http://www.google.com'\n",
    "\n",
    "# 啟動chrome瀏覽器\n",
    "chromeDriver = '/Users/s960405s/webDriverTool/chromedriver'\n",
    "driver = webdriver.Chrome(chromeDriver)\n",
    "\n",
    "# 前往網頁\n",
    "driver.get(url)\n",
    "\n",
    "# 瀏覽器視窗最大化\n",
    "driver.maximize_window()\n",
    "\n",
    "# 標題\n",
    "print(driver.title)\n",
    "\n",
    "# 重新整理\n",
    "# driver.refresh()\n",
    "\n",
    "# 關閉瀏覽器\n",
    "# driver.close()"
   ]
  },
  {
   "cell_type": "code",
   "execution_count": null,
   "metadata": {
    "collapsed": true
   },
   "outputs": [],
   "source": [
    "# 查看網頁結構\n",
    "# 搜狗圖片 貓\n",
    "import requests\n",
    "from bs4 import BeautifulSoup\n",
    "\n",
    "url = 'http://pic.sogou.com/pics?ie=utf8&p=40230504&interV=kKIOkrELjboMmLkElbkTkKIKmbELjboImLkElbcTkKILmrELjb8TkKIKmrELjbkI_-1045767059&query=%E8%B2%93&'\n",
    "resp = requests.get(url)\n",
    "soup = BeautifulSoup(resp.text, 'lxml')\n",
    "print(soup.prettify())"
   ]
  },
  {
   "cell_type": "code",
   "execution_count": null,
   "metadata": {
    "collapsed": true
   },
   "outputs": [],
   "source": [
    "# 選擇element\n",
    "from selenium.common.exceptions import NoSuchElementException\n",
    "from selenium import webdriver\n",
    "\n",
    "url = 'http://pic.sogou.com/pics?ie=utf8&p=40230504&interV=kKIOkrELjboMmLkElbkTkKIKmbELjboImLkElbcTkKILmrELjb8TkKIKmrELjbkI_-1045767059&query=%E8%B2%93&'\n",
    "\n",
    "chromeDriver = '/Users/s960405s/webDriverTool/chromedriver'\n",
    "driver = webdriver.Chrome(chromeDriver)\n",
    "\n",
    "driver.get(url)\n",
    "\n",
    "# 找到element\n",
    "# element = driver.find_element_by_id()\n",
    "# element = driver.find_element_by_class_name()\n",
    "# element = driver.find_element_by_tag_name()\n",
    "# element = driver.find_element_by_name()\n",
    "# element = driver.find_element_by_link_text()\n",
    "# element = driver.find_element_by_partial_link_text()\n",
    "# element = driver.find_element_by_css_selector()\n",
    "# element = driver.find_element_by_xpath()\n",
    "\n",
    "# 執行操作\n",
    "# element.click()\n",
    "# element.submit()\n",
    "# element.text\n",
    "\n",
    "# 重新整理\n",
    "# driver.refresh()\n",
    "\n",
    "# 關閉瀏覽器\n",
    "# driver.close()\n"
   ]
  },
  {
   "cell_type": "code",
   "execution_count": null,
   "metadata": {
    "collapsed": true
   },
   "outputs": [],
   "source": [
    "from selenium import webdriver\n",
    "import time\n",
    "import urllib\n",
    "import os\n",
    "\n",
    "# 存圖位置\n",
    "local_path = 'crawlerImage/'\n",
    "\n",
    "# 爬取頁面網址 \n",
    "url = 'http://pic.sogou.com/pics?ie=utf8&p=40230504&interV=kKIOkrELjboMmLkElbkTkKIKmbELjboImLkElbcTkKILmrELjb8TkKIKmrELjbkI_-1045767059&query=%E8%B2%93&'  \n",
    "  \n",
    "# 目標元素的xpath\n",
    "xpath = '//div[@id=\"imgid\"]/ul/li/a/img'\n",
    "  \n",
    "# 啟動chrome瀏覽器\n",
    "chromeDriver = '/Users/s960405s/webDriverTool/chromedriver'\n",
    "driver = webdriver.Chrome(chromeDriver) \n",
    "  \n",
    "# 最大化窗口，因為每一次爬取只能看到視窗内的圖片  \n",
    "driver.maximize_window()  \n",
    "  \n",
    "# 紀錄下載過的圖片網址，避免重複下載  \n",
    "img_url_dic = {}  \n",
    "  \n",
    "# 瀏覽器打開爬取頁面\n",
    "driver.get(url)  \n",
    "  \n",
    "# 模擬滾動視窗瀏覽更多圖片\n",
    "pos = 0  \n",
    "m = 0 # 圖片編號  \n",
    "for i in range(3):  \n",
    "    pos += i*500 # 每次下滾500  \n",
    "    js = \"document.documentElement.scrollTop=%d\" % pos  \n",
    "    driver.execute_script(js)  \n",
    "    time.sleep(1)\n",
    "    \n",
    "    for element in driver.find_elements_by_xpath(xpath):\n",
    "        img_url = element.get_attribute('src')\n",
    "        \n",
    "        # 保存圖片到指定路徑\n",
    "        if img_url != None and not img_url in img_url_dic:\n",
    "            img_url_dic[img_url] = ''  \n",
    "            m += 1\n",
    "            # print(img_url)\n",
    "            ext = img_url.split('/')[-1]\n",
    "            # print(ext)\n",
    "            filename = str(m) + ext +'.jpg'\n",
    "            print(filename)\n",
    "            # 保存圖片\n",
    "            urllib.request.urlretrieve(img_url, os.path.join(local_path , filename)) \n",
    "driver.close() "
   ]
  },
  {
   "cell_type": "code",
   "execution_count": null,
   "metadata": {
    "collapsed": true
   },
   "outputs": [],
   "source": []
  }
 ],
 "metadata": {
  "kernelspec": {
   "display_name": "Python 3",
   "language": "python",
   "name": "python3"
  },
  "language_info": {
   "codemirror_mode": {
    "name": "ipython",
    "version": 3
   },
   "file_extension": ".py",
   "mimetype": "text/x-python",
   "name": "python",
   "nbconvert_exporter": "python",
   "pygments_lexer": "ipython3",
   "version": "3.6.1"
  }
 },
 "nbformat": 4,
 "nbformat_minor": 2
}
